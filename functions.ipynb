{
 "cells": [
  {
   "cell_type": "code",
   "execution_count": 3,
   "id": "a1b83cd4",
   "metadata": {},
   "outputs": [],
   "source": [
    "# FUNCTIONS\n",
    "# -> reusability of codes at different places"
   ]
  },
  {
   "cell_type": "code",
   "execution_count": 4,
   "id": "0721a9ce",
   "metadata": {},
   "outputs": [],
   "source": [
    "# step1: definition\n",
    "# step2: call"
   ]
  },
  {
   "cell_type": "code",
   "execution_count": 2,
   "id": "ac80e47c",
   "metadata": {},
   "outputs": [],
   "source": [
    "# function to ask name\n",
    "def nameUpper():                                 # function define\n",
    "    \"\"\"this function takes input and \n",
    "    returns the string in upper case\"\"\"          # docstring -> when user checks property of function by shift+tab, it visibles \n",
    "    name = input('Please tell me your good name! ')\n",
    "    print(name.upper())"
   ]
  },
  {
   "cell_type": "code",
   "execution_count": 3,
   "id": "3cdb32aa",
   "metadata": {},
   "outputs": [
    {
     "data": {
      "text/plain": [
       "<function __main__.nameUpper()>"
      ]
     },
     "execution_count": 3,
     "metadata": {},
     "output_type": "execute_result"
    }
   ],
   "source": [
    "nameUpper  # does not behave as calling without ()"
   ]
  },
  {
   "cell_type": "code",
   "execution_count": 4,
   "id": "db9f0601",
   "metadata": {},
   "outputs": [
    {
     "name": "stdout",
     "output_type": "stream",
     "text": [
      "Please tell me your good name! nighat raza\n",
      "NIGHAT RAZA\n"
     ]
    }
   ],
   "source": [
    "nameUpper()   # calling a function"
   ]
  },
  {
   "cell_type": "code",
   "execution_count": 18,
   "id": "69948580",
   "metadata": {},
   "outputs": [
    {
     "name": "stdout",
     "output_type": "stream",
     "text": [
      "100\n"
     ]
    }
   ],
   "source": [
    "# parameterless function \n",
    "def calSquare():                \n",
    "    a = 10\n",
    "    sq = a*a\n",
    "    print(sq)\n",
    "calSquare()"
   ]
  },
  {
   "cell_type": "code",
   "execution_count": 20,
   "id": "b2431e67",
   "metadata": {},
   "outputs": [
    {
     "name": "stdout",
     "output_type": "stream",
     "text": [
      "16\n"
     ]
    }
   ],
   "source": [
    "# parameterized function\n",
    "def calcSquare(val):              # (parameters)\n",
    "    sq = val**2\n",
    "    print(sq)\n",
    "calcSquare(4)                      # (arguments)"
   ]
  },
  {
   "cell_type": "code",
   "execution_count": null,
   "id": "68665097",
   "metadata": {},
   "outputs": [],
   "source": [
    "# ERROR:\n",
    "# signature must be matched\n",
    "#     calcSquare()\n",
    "#     calcSquare(1,2)\n",
    "# arg is valid but funtionality is not supporting\n",
    "#     calcSquare('Hello')"
   ]
  },
  {
   "cell_type": "code",
   "execution_count": null,
   "id": "c0078b47",
   "metadata": {},
   "outputs": [],
   "source": [
    "# variables made inside function -> local variables(cannot be called outside function)\n",
    "# variables made outside function -> global variables(cannot be called inside function)\n",
    "# function is not executed until it is called\n",
    "# to save/store/access output of function:\n",
    "    # 1) to make all local variables global\n",
    "    # 2) use return keyword"
   ]
  },
  {
   "cell_type": "code",
   "execution_count": 29,
   "id": "3c6dc587",
   "metadata": {},
   "outputs": [
    {
     "name": "stdout",
     "output_type": "stream",
     "text": [
      "30\n"
     ]
    }
   ],
   "source": [
    "num = 10           # global\n",
    "def addTen(val):\n",
    "    added = val+num   # local\n",
    "addTen(20)\n",
    "print(added)"
   ]
  },
  {
   "cell_type": "code",
   "execution_count": 30,
   "id": "9528fe85",
   "metadata": {},
   "outputs": [
    {
     "name": "stdout",
     "output_type": "stream",
     "text": [
      "30\n"
     ]
    }
   ],
   "source": [
    "num = 10           \n",
    "def addTen(val):\n",
    "    global added\n",
    "    added = val+num    \n",
    "addTen(20)\n",
    "print(added)"
   ]
  },
  {
   "cell_type": "code",
   "execution_count": 32,
   "id": "b9814960",
   "metadata": {},
   "outputs": [
    {
     "name": "stdout",
     "output_type": "stream",
     "text": [
      "None\n"
     ]
    }
   ],
   "source": [
    "num = 10           \n",
    "def addTen(val):\n",
    "    added = val+num    \n",
    "print(addTen(20))            # does not execute value"
   ]
  },
  {
   "cell_type": "code",
   "execution_count": 35,
   "id": "cc945a42",
   "metadata": {},
   "outputs": [
    {
     "name": "stdout",
     "output_type": "stream",
     "text": [
      "400\n"
     ]
    }
   ],
   "source": [
    "# return \n",
    "# -> there cannot be multiple return statements in same indent       \n",
    "def square(val):\n",
    "    sq = val**2\n",
    "    return sq        # return keyword \n",
    "answer = square(20)        # throws value outside\n",
    "print(answer)        # exectues value"
   ]
  },
  {
   "cell_type": "code",
   "execution_count": 36,
   "id": "34c54eac",
   "metadata": {},
   "outputs": [
    {
     "name": "stdout",
     "output_type": "stream",
     "text": [
      "400\n"
     ]
    }
   ],
   "source": [
    "def square(val):\n",
    "    sq = val**2\n",
    "    return sq       \n",
    "    print('hello')      # whatever written after return is not executed\n",
    "answer = square(20) \n",
    "print(answer) "
   ]
  },
  {
   "cell_type": "code",
   "execution_count": 38,
   "id": "fb005474",
   "metadata": {},
   "outputs": [
    {
     "name": "stdout",
     "output_type": "stream",
     "text": [
      "(4.0, 2, 4)\n"
     ]
    }
   ],
   "source": [
    "def areaoftriangle(l,h):\n",
    "    area = 0.5*l*h\n",
    "    return area,l,h         # return multiple values\n",
    "print(areaoftriangle(2,4))"
   ]
  },
  {
   "cell_type": "code",
   "execution_count": 39,
   "id": "d8255baa",
   "metadata": {},
   "outputs": [
    {
     "name": "stdout",
     "output_type": "stream",
     "text": [
      "the area of triangle have length 5 and height 6 is 15.0 sqm\n"
     ]
    }
   ],
   "source": [
    "def areaoftriangle(l,h):\n",
    "    area = 0.5*l*h\n",
    "    return area,l,h         # return multiple values\n",
    "area,l,h = areaoftriangle(5,6)\n",
    "print(f\"the area of triangle have length {l} and height {h} is {area} sqm\")"
   ]
  },
  {
   "cell_type": "code",
   "execution_count": 45,
   "id": "79b64f4c",
   "metadata": {},
   "outputs": [
    {
     "name": "stdout",
     "output_type": "stream",
     "text": [
      "enter marks in maths: 34\n",
      "enter marks in science: 54\n",
      "enter marks in computer: 22\n",
      "student obtained 110.0 marks out of 300 and has percentage 36.666666666666664% and got D grade\n"
     ]
    }
   ],
   "source": [
    "def gradeCal(math,science,computer):\n",
    "    total = 300\n",
    "    obtained = math+science+computer\n",
    "    per = ((math+science+computer)/total)*100\n",
    "    if per>=80: grade = 'A'\n",
    "    elif per>=60 and grade<80: grade = 'B'\n",
    "    elif per>=40 and grade<60: grade = 'C'\n",
    "    else: grade = 'D'\n",
    "    return total,obtained,per,grade\n",
    "\n",
    "math = float(input('enter marks in maths: '))\n",
    "science = float(input('enter marks in science: '))\n",
    "computer = float(input('enter marks in computer: '))\n",
    "\n",
    "total,obtained,per,grade = gradeCal(math,science,computer)\n",
    "print(f\"student obtained {obtained} marks out of {total} and has percentage {per}% and got {grade} grade\")"
   ]
  },
  {
   "cell_type": "code",
   "execution_count": 47,
   "id": "17aa8f0a",
   "metadata": {},
   "outputs": [
    {
     "name": "stdout",
     "output_type": "stream",
     "text": [
      "62000\n",
      "72000\n"
     ]
    }
   ],
   "source": [
    "# default arguments must be at last position\n",
    "def salaryCalculator(basic,allounces,perBonus = 0): # default argument\n",
    "    gross = basic+allounces+perBonus\n",
    "    return gross\n",
    "print(salaryCalculator(50000,12000)) # default value is used\n",
    "print(salaryCalculator(50000,12000,10000))"
   ]
  },
  {
   "cell_type": "code",
   "execution_count": 1,
   "id": "053af0d4",
   "metadata": {},
   "outputs": [],
   "source": [
    "# CLASS 8"
   ]
  },
  {
   "cell_type": "code",
   "execution_count": 2,
   "id": "0f6a43a8",
   "metadata": {},
   "outputs": [],
   "source": [
    "# Arbitrary Number Of Arguments\n",
    "# *other -> store arguments -> tuples\n",
    "# **other -> store keyword arguments -> dictionary"
   ]
  },
  {
   "cell_type": "code",
   "execution_count": 15,
   "id": "4169e0c8",
   "metadata": {},
   "outputs": [],
   "source": [
    "def userdetails():\n",
    "    pass"
   ]
  },
  {
   "cell_type": "code",
   "execution_count": 22,
   "id": "c893c52b",
   "metadata": {},
   "outputs": [
    {
     "name": "stdout",
     "output_type": "stream",
     "text": [
      "hello\n"
     ]
    }
   ],
   "source": [
    "def afunction(values):\n",
    "    print(values)\n",
    "afunction('hello')"
   ]
  },
  {
   "cell_type": "code",
   "execution_count": 9,
   "id": "d4f1ab6b",
   "metadata": {},
   "outputs": [],
   "source": [
    "# accepts all arguments\n",
    "def bfunction(*values):\n",
    "    print(values)"
   ]
  },
  {
   "cell_type": "code",
   "execution_count": 10,
   "id": "7ff0d9eb",
   "metadata": {},
   "outputs": [
    {
     "name": "stdout",
     "output_type": "stream",
     "text": [
      "('hello', 'mr.', 'ahmed')\n"
     ]
    }
   ],
   "source": [
    "# prints as tuple\n",
    "bfunction('hello','mr.','ahmed')"
   ]
  },
  {
   "cell_type": "code",
   "execution_count": 21,
   "id": "a68e0dd9",
   "metadata": {},
   "outputs": [
    {
     "name": "stdout",
     "output_type": "stream",
     "text": [
      "hello hassan\n",
      "hello ali\n",
      "hello ahmed\n"
     ]
    }
   ],
   "source": [
    "def cfunction(*values):\n",
    "    for name in values:\n",
    "        print(f\"hello {name}\")\n",
    "cfunction('hassan','ali','ahmed')"
   ]
  },
  {
   "cell_type": "code",
   "execution_count": 20,
   "id": "5297423e",
   "metadata": {},
   "outputs": [],
   "source": [
    "# def user(*other,name):        # all goes in first parameter\n",
    "#     print(name)\n",
    "# user('nighat',23,233131.32,False)"
   ]
  },
  {
   "cell_type": "code",
   "execution_count": 24,
   "id": "c518f5bc",
   "metadata": {},
   "outputs": [
    {
     "name": "stdout",
     "output_type": "stream",
     "text": [
      "name nighat\n",
      "id 34\n",
      "False\n",
      "mahmood\n"
     ]
    }
   ],
   "source": [
    "def userdetails(name,id,*other):    # last paarmeter will store all the extra arguments while 1st and 2nd stores respectively\n",
    "    print('name :',name)\n",
    "    print('id :',id)\n",
    "    for i in other:\n",
    "        print(i)\n",
    "userdetails('nighat',34,False,'mahmood')"
   ]
  },
  {
   "cell_type": "code",
   "execution_count": 25,
   "id": "07e38d12",
   "metadata": {},
   "outputs": [],
   "source": [
    "# Passing A List As Argument"
   ]
  },
  {
   "cell_type": "code",
   "execution_count": 67,
   "id": "72ce815d",
   "metadata": {},
   "outputs": [],
   "source": [
    "students = ['Asad','Aqsa','Danish','Fahad','Kiran']"
   ]
  },
  {
   "cell_type": "code",
   "execution_count": 75,
   "id": "cd5fa458",
   "metadata": {},
   "outputs": [],
   "source": [
    "#  if students list is directly passed through an argument and pop is used so changes are made in the main data.\n",
    "# In order to not distrub original data make copy either using method or making a slice"
   ]
  },
  {
   "cell_type": "code",
   "execution_count": 76,
   "id": "026117b0",
   "metadata": {},
   "outputs": [
    {
     "name": "stdout",
     "output_type": "stream",
     "text": [
      "['Kiran', 'Fahad', 'Danish', 'Aqsa', 'Asad']\n",
      "[]\n",
      "['Asad', 'Aqsa', 'Danish', 'Fahad', 'Kiran']\n"
     ]
    }
   ],
   "source": [
    "def promoteStudent(list_of_st):\n",
    "    promotedSt = []\n",
    "    for st in range(len(list_of_st)):\n",
    "        promotedSt.append(list_of_st.pop())\n",
    "    print(promotedSt)\n",
    "    print(list_of_st)\n",
    "promoteStudent(students.copy())         # returns copy using method\n",
    "print(students)"
   ]
  },
  {
   "cell_type": "code",
   "execution_count": 77,
   "id": "dfb3c9af",
   "metadata": {},
   "outputs": [
    {
     "name": "stdout",
     "output_type": "stream",
     "text": [
      "['Asad', 'Aqsa', 'Danish', 'Fahad', 'Kiran']\n",
      "['Asad', 'Aqsa', 'Danish', 'Fahad', 'Kiran']\n",
      "['Asad', 'Aqsa', 'Danish', 'Fahad', 'Kiran']\n"
     ]
    }
   ],
   "source": [
    "def promoteStudent(list_of_st):\n",
    "    promotedSt = []\n",
    "    for st in list_of_st:\n",
    "        promotedSt.append(st)\n",
    "    print(promotedSt)\n",
    "    print(list_of_st)\n",
    "promoteStudent(students[:])   # returns copy by slicing\n",
    "print(students)"
   ]
  },
  {
   "cell_type": "code",
   "execution_count": 88,
   "id": "08785941",
   "metadata": {},
   "outputs": [],
   "source": [
    "# two diff dicts one default (user_info) and one made (profile)\n",
    "\n",
    "def build_profile(first,last,**user_info):\n",
    "    profile={}\n",
    "    profile['first name']=first\n",
    "    profile['last name'] = last\n",
    "    print(user_info)         # default as dict\n",
    "    return profile\n",
    "\n",
    "user_profile = build_profile('nighat','raza',location='karachi',field='science')\n",
    "user_profile"
   ]
  },
  {
   "cell_type": "code",
   "execution_count": 90,
   "id": "bc2a08e6",
   "metadata": {},
   "outputs": [],
   "source": [
    "# made a new dict and save all the content (profile)\n",
    "\n",
    "def build_profile(first,last,**user_info):\n",
    "    profile={}\n",
    "    profile['first name']=first\n",
    "    profile['last name'] = last\n",
    "    for key,val in user_info.items():\n",
    "        profile[key]=val\n",
    "    return profile\n",
    "\n",
    "user_profile = build_profile('nighat','raza',location='karachi',field='science')\n",
    "user_profile"
   ]
  },
  {
   "cell_type": "code",
   "execution_count": 96,
   "id": "af3f5123",
   "metadata": {},
   "outputs": [],
   "source": [
    "# save all the content in the existing dict (user_info)\n",
    "\n",
    "def build_profile(first,last,**user_info):\n",
    "    user_info['first name']=first\n",
    "    user_info['last name']=last\n",
    "    return user_info\n",
    "\n",
    "user_profile = build_profile('nighat','raza',location='karachi',field='science')\n",
    "user_profile"
   ]
  },
  {
   "cell_type": "code",
   "execution_count": 110,
   "id": "d58344bf",
   "metadata": {},
   "outputs": [],
   "source": [
    "def make_album(artist_name,album_title,num_tracks=None):\n",
    "    music_album = {}\n",
    "    music_album['artist']=artist_name\n",
    "    music_album['album']=album_title\n",
    "    if num_tracks:\n",
    "        music_album['tracks'] = num_tracks\n",
    "    \n",
    "    return music_album\n"
   ]
  },
  {
   "cell_type": "code",
   "execution_count": 112,
   "id": "c206ee58",
   "metadata": {},
   "outputs": [
    {
     "data": {
      "text/plain": [
       "{'artist': 'nighat', 'album': 'hello'}"
      ]
     },
     "execution_count": 112,
     "metadata": {},
     "output_type": "execute_result"
    }
   ],
   "source": [
    "make_album('nighat','hello')"
   ]
  },
  {
   "cell_type": "code",
   "execution_count": null,
   "id": "0b24e2db",
   "metadata": {},
   "outputs": [],
   "source": []
  },
  {
   "cell_type": "code",
   "execution_count": null,
   "id": "60d9f220",
   "metadata": {},
   "outputs": [],
   "source": []
  },
  {
   "cell_type": "code",
   "execution_count": null,
   "id": "0cc9ec02",
   "metadata": {},
   "outputs": [],
   "source": []
  },
  {
   "cell_type": "code",
   "execution_count": null,
   "id": "fe1712e6",
   "metadata": {},
   "outputs": [],
   "source": []
  },
  {
   "cell_type": "code",
   "execution_count": null,
   "id": "8849efe0",
   "metadata": {},
   "outputs": [],
   "source": []
  },
  {
   "cell_type": "code",
   "execution_count": null,
   "id": "9b44aeb3",
   "metadata": {},
   "outputs": [],
   "source": []
  },
  {
   "cell_type": "code",
   "execution_count": null,
   "id": "b62e27fd",
   "metadata": {},
   "outputs": [],
   "source": []
  },
  {
   "cell_type": "code",
   "execution_count": null,
   "id": "d85e0647",
   "metadata": {},
   "outputs": [],
   "source": []
  }
 ],
 "metadata": {
  "kernelspec": {
   "display_name": "Python 3",
   "language": "python",
   "name": "python3"
  },
  "language_info": {
   "codemirror_mode": {
    "name": "ipython",
    "version": 3
   },
   "file_extension": ".py",
   "mimetype": "text/x-python",
   "name": "python",
   "nbconvert_exporter": "python",
   "pygments_lexer": "ipython3",
   "version": "3.8.8"
  }
 },
 "nbformat": 4,
 "nbformat_minor": 5
}
